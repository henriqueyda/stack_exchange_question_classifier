{
 "cells": [
  {
   "cell_type": "code",
   "execution_count": 1,
   "metadata": {},
   "outputs": [],
   "source": [
    "from urllib.request import urlopen\n",
    "import json"
   ]
  },
  {
   "cell_type": "code",
   "execution_count": 2,
   "metadata": {},
   "outputs": [
    {
     "data": {
      "text/plain": [
       "20219"
      ]
     },
     "execution_count": 2,
     "metadata": {},
     "output_type": "execute_result"
    }
   ],
   "source": [
    "data = []\n",
    "url = 'https://s3.amazonaws.com/hr-testcases/845/assets/training.json'\n",
    "data_raw = urlopen(url)\n",
    "for line in data_raw:\n",
    "    data.append(json.loads(line))\n",
    "data.pop(0)"
   ]
  },
  {
   "cell_type": "code",
   "execution_count": 3,
   "metadata": {},
   "outputs": [
    {
     "data": {
      "text/html": [
       "<div>\n",
       "<style scoped>\n",
       "    .dataframe tbody tr th:only-of-type {\n",
       "        vertical-align: middle;\n",
       "    }\n",
       "\n",
       "    .dataframe tbody tr th {\n",
       "        vertical-align: top;\n",
       "    }\n",
       "\n",
       "    .dataframe thead th {\n",
       "        text-align: right;\n",
       "    }\n",
       "</style>\n",
       "<table border=\"1\" class=\"dataframe\">\n",
       "  <thead>\n",
       "    <tr style=\"text-align: right;\">\n",
       "      <th></th>\n",
       "      <th>topic</th>\n",
       "      <th>question</th>\n",
       "      <th>excerpt</th>\n",
       "    </tr>\n",
       "  </thead>\n",
       "  <tbody>\n",
       "    <tr>\n",
       "      <th>0</th>\n",
       "      <td>electronics</td>\n",
       "      <td>What is the effective differencial effective o...</td>\n",
       "      <td>I'm trying to work out, in general terms, the ...</td>\n",
       "    </tr>\n",
       "    <tr>\n",
       "      <th>1</th>\n",
       "      <td>electronics</td>\n",
       "      <td>Heat sensor with fan cooling</td>\n",
       "      <td>Can I know which component senses heat or acts...</td>\n",
       "    </tr>\n",
       "    <tr>\n",
       "      <th>2</th>\n",
       "      <td>electronics</td>\n",
       "      <td>Outlet Installation--more wires than my new ou...</td>\n",
       "      <td>I am replacing a wall outlet with a Cooper Wir...</td>\n",
       "    </tr>\n",
       "    <tr>\n",
       "      <th>3</th>\n",
       "      <td>electronics</td>\n",
       "      <td>Buck Converter Operation Question</td>\n",
       "      <td>i have been reading about the buck converter, ...</td>\n",
       "    </tr>\n",
       "    <tr>\n",
       "      <th>4</th>\n",
       "      <td>electronics</td>\n",
       "      <td>Urgent help in area of ASIC design, verificati...</td>\n",
       "      <td>I need help with deciding on a Master's Projec...</td>\n",
       "    </tr>\n",
       "    <tr>\n",
       "      <th>...</th>\n",
       "      <td>...</td>\n",
       "      <td>...</td>\n",
       "      <td>...</td>\n",
       "    </tr>\n",
       "    <tr>\n",
       "      <th>20214</th>\n",
       "      <td>wordpress</td>\n",
       "      <td>How to set a Custom Post Type as the parent of...</td>\n",
       "      <td>I have a Custom Post Type called Recipe with p...</td>\n",
       "    </tr>\n",
       "    <tr>\n",
       "      <th>20215</th>\n",
       "      <td>wordpress</td>\n",
       "      <td>Tracking last login and last visit</td>\n",
       "      <td>I'm using the code below to track when a user ...</td>\n",
       "    </tr>\n",
       "    <tr>\n",
       "      <th>20216</th>\n",
       "      <td>wordpress</td>\n",
       "      <td>How to exclude the particular category from th...</td>\n",
       "      <td>add_action( 'pre_get_posts', 'custom_pre_get_p...</td>\n",
       "    </tr>\n",
       "    <tr>\n",
       "      <th>20217</th>\n",
       "      <td>wordpress</td>\n",
       "      <td>display sub categories assoccited with each po...</td>\n",
       "      <td>i have wordpress blog with many posts. each po...</td>\n",
       "    </tr>\n",
       "    <tr>\n",
       "      <th>20218</th>\n",
       "      <td>wordpress</td>\n",
       "      <td>Lost of query parameter when using permalink</td>\n",
       "      <td>I have many issues with the use of rewriting, ...</td>\n",
       "    </tr>\n",
       "  </tbody>\n",
       "</table>\n",
       "<p>20219 rows × 3 columns</p>\n",
       "</div>"
      ],
      "text/plain": [
       "             topic                                           question  \\\n",
       "0      electronics  What is the effective differencial effective o...   \n",
       "1      electronics                       Heat sensor with fan cooling   \n",
       "2      electronics  Outlet Installation--more wires than my new ou...   \n",
       "3      electronics                  Buck Converter Operation Question   \n",
       "4      electronics  Urgent help in area of ASIC design, verificati...   \n",
       "...            ...                                                ...   \n",
       "20214    wordpress  How to set a Custom Post Type as the parent of...   \n",
       "20215    wordpress                 Tracking last login and last visit   \n",
       "20216    wordpress  How to exclude the particular category from th...   \n",
       "20217    wordpress  display sub categories assoccited with each po...   \n",
       "20218    wordpress       Lost of query parameter when using permalink   \n",
       "\n",
       "                                                 excerpt  \n",
       "0      I'm trying to work out, in general terms, the ...  \n",
       "1      Can I know which component senses heat or acts...  \n",
       "2      I am replacing a wall outlet with a Cooper Wir...  \n",
       "3      i have been reading about the buck converter, ...  \n",
       "4      I need help with deciding on a Master's Projec...  \n",
       "...                                                  ...  \n",
       "20214  I have a Custom Post Type called Recipe with p...  \n",
       "20215  I'm using the code below to track when a user ...  \n",
       "20216  add_action( 'pre_get_posts', 'custom_pre_get_p...  \n",
       "20217  i have wordpress blog with many posts. each po...  \n",
       "20218  I have many issues with the use of rewriting, ...  \n",
       "\n",
       "[20219 rows x 3 columns]"
      ]
     },
     "execution_count": 3,
     "metadata": {},
     "output_type": "execute_result"
    }
   ],
   "source": [
    "import pandas as pd\n",
    "\n",
    "df_train = pd.DataFrame.from_dict(data)\n",
    "df_train"
   ]
  },
  {
   "cell_type": "code",
   "execution_count": 4,
   "metadata": {},
   "outputs": [
    {
     "data": {
      "text/html": [
       "<div>\n",
       "<style scoped>\n",
       "    .dataframe tbody tr th:only-of-type {\n",
       "        vertical-align: middle;\n",
       "    }\n",
       "\n",
       "    .dataframe tbody tr th {\n",
       "        vertical-align: top;\n",
       "    }\n",
       "\n",
       "    .dataframe thead th {\n",
       "        text-align: right;\n",
       "    }\n",
       "</style>\n",
       "<table border=\"1\" class=\"dataframe\">\n",
       "  <thead>\n",
       "    <tr style=\"text-align: right;\">\n",
       "      <th></th>\n",
       "      <th>topic</th>\n",
       "      <th>question</th>\n",
       "      <th>excerpt</th>\n",
       "      <th>text</th>\n",
       "    </tr>\n",
       "  </thead>\n",
       "  <tbody>\n",
       "    <tr>\n",
       "      <th>0</th>\n",
       "      <td>electronics</td>\n",
       "      <td>What is the effective differencial effective o...</td>\n",
       "      <td>I'm trying to work out, in general terms, the ...</td>\n",
       "      <td>What is the effective differencial effective o...</td>\n",
       "    </tr>\n",
       "    <tr>\n",
       "      <th>1</th>\n",
       "      <td>electronics</td>\n",
       "      <td>Heat sensor with fan cooling</td>\n",
       "      <td>Can I know which component senses heat or acts...</td>\n",
       "      <td>Heat sensor with fan cooling Can I know which ...</td>\n",
       "    </tr>\n",
       "    <tr>\n",
       "      <th>2</th>\n",
       "      <td>electronics</td>\n",
       "      <td>Outlet Installation--more wires than my new ou...</td>\n",
       "      <td>I am replacing a wall outlet with a Cooper Wir...</td>\n",
       "      <td>Outlet Installation--more wires than my new ou...</td>\n",
       "    </tr>\n",
       "    <tr>\n",
       "      <th>3</th>\n",
       "      <td>electronics</td>\n",
       "      <td>Buck Converter Operation Question</td>\n",
       "      <td>i have been reading about the buck converter, ...</td>\n",
       "      <td>Buck Converter Operation Question i have been ...</td>\n",
       "    </tr>\n",
       "    <tr>\n",
       "      <th>4</th>\n",
       "      <td>electronics</td>\n",
       "      <td>Urgent help in area of ASIC design, verificati...</td>\n",
       "      <td>I need help with deciding on a Master's Projec...</td>\n",
       "      <td>Urgent help in area of ASIC design, verificati...</td>\n",
       "    </tr>\n",
       "    <tr>\n",
       "      <th>...</th>\n",
       "      <td>...</td>\n",
       "      <td>...</td>\n",
       "      <td>...</td>\n",
       "      <td>...</td>\n",
       "    </tr>\n",
       "    <tr>\n",
       "      <th>20214</th>\n",
       "      <td>wordpress</td>\n",
       "      <td>How to set a Custom Post Type as the parent of...</td>\n",
       "      <td>I have a Custom Post Type called Recipe with p...</td>\n",
       "      <td>How to set a Custom Post Type as the parent of...</td>\n",
       "    </tr>\n",
       "    <tr>\n",
       "      <th>20215</th>\n",
       "      <td>wordpress</td>\n",
       "      <td>Tracking last login and last visit</td>\n",
       "      <td>I'm using the code below to track when a user ...</td>\n",
       "      <td>Tracking last login and last visit I'm using t...</td>\n",
       "    </tr>\n",
       "    <tr>\n",
       "      <th>20216</th>\n",
       "      <td>wordpress</td>\n",
       "      <td>How to exclude the particular category from th...</td>\n",
       "      <td>add_action( 'pre_get_posts', 'custom_pre_get_p...</td>\n",
       "      <td>How to exclude the particular category from th...</td>\n",
       "    </tr>\n",
       "    <tr>\n",
       "      <th>20217</th>\n",
       "      <td>wordpress</td>\n",
       "      <td>display sub categories assoccited with each po...</td>\n",
       "      <td>i have wordpress blog with many posts. each po...</td>\n",
       "      <td>display sub categories assoccited with each po...</td>\n",
       "    </tr>\n",
       "    <tr>\n",
       "      <th>20218</th>\n",
       "      <td>wordpress</td>\n",
       "      <td>Lost of query parameter when using permalink</td>\n",
       "      <td>I have many issues with the use of rewriting, ...</td>\n",
       "      <td>Lost of query parameter when using permalink I...</td>\n",
       "    </tr>\n",
       "  </tbody>\n",
       "</table>\n",
       "<p>20219 rows × 4 columns</p>\n",
       "</div>"
      ],
      "text/plain": [
       "             topic                                           question  \\\n",
       "0      electronics  What is the effective differencial effective o...   \n",
       "1      electronics                       Heat sensor with fan cooling   \n",
       "2      electronics  Outlet Installation--more wires than my new ou...   \n",
       "3      electronics                  Buck Converter Operation Question   \n",
       "4      electronics  Urgent help in area of ASIC design, verificati...   \n",
       "...            ...                                                ...   \n",
       "20214    wordpress  How to set a Custom Post Type as the parent of...   \n",
       "20215    wordpress                 Tracking last login and last visit   \n",
       "20216    wordpress  How to exclude the particular category from th...   \n",
       "20217    wordpress  display sub categories assoccited with each po...   \n",
       "20218    wordpress       Lost of query parameter when using permalink   \n",
       "\n",
       "                                                 excerpt  \\\n",
       "0      I'm trying to work out, in general terms, the ...   \n",
       "1      Can I know which component senses heat or acts...   \n",
       "2      I am replacing a wall outlet with a Cooper Wir...   \n",
       "3      i have been reading about the buck converter, ...   \n",
       "4      I need help with deciding on a Master's Projec...   \n",
       "...                                                  ...   \n",
       "20214  I have a Custom Post Type called Recipe with p...   \n",
       "20215  I'm using the code below to track when a user ...   \n",
       "20216  add_action( 'pre_get_posts', 'custom_pre_get_p...   \n",
       "20217  i have wordpress blog with many posts. each po...   \n",
       "20218  I have many issues with the use of rewriting, ...   \n",
       "\n",
       "                                                    text  \n",
       "0      What is the effective differencial effective o...  \n",
       "1      Heat sensor with fan cooling Can I know which ...  \n",
       "2      Outlet Installation--more wires than my new ou...  \n",
       "3      Buck Converter Operation Question i have been ...  \n",
       "4      Urgent help in area of ASIC design, verificati...  \n",
       "...                                                  ...  \n",
       "20214  How to set a Custom Post Type as the parent of...  \n",
       "20215  Tracking last login and last visit I'm using t...  \n",
       "20216  How to exclude the particular category from th...  \n",
       "20217  display sub categories assoccited with each po...  \n",
       "20218  Lost of query parameter when using permalink I...  \n",
       "\n",
       "[20219 rows x 4 columns]"
      ]
     },
     "execution_count": 4,
     "metadata": {},
     "output_type": "execute_result"
    }
   ],
   "source": [
    "df_train['text'] = df_train[['question','excerpt']].agg(' '.join, axis=1)\n",
    "df_train"
   ]
  },
  {
   "cell_type": "code",
   "execution_count": 5,
   "metadata": {
    "scrolled": false
   },
   "outputs": [
    {
     "name": "stderr",
     "output_type": "stream",
     "text": [
      "[nltk_data] Downloading package stopwords to\n",
      "[nltk_data]     C:\\Users\\henri\\AppData\\Roaming\\nltk_data...\n",
      "[nltk_data]   Package stopwords is already up-to-date!\n",
      "[nltk_data] Downloading package wordnet to\n",
      "[nltk_data]     C:\\Users\\henri\\AppData\\Roaming\\nltk_data...\n",
      "[nltk_data]   Package wordnet is already up-to-date!\n"
     ]
    }
   ],
   "source": [
    "import numpy as np\n",
    "import re\n",
    "import nltk\n",
    "nltk.download('stopwords')\n",
    "nltk.download('wordnet')\n",
    "from nltk.corpus import stopwords\n",
    "from nltk.stem import WordNetLemmatizer"
   ]
  },
  {
   "cell_type": "code",
   "execution_count": 6,
   "metadata": {},
   "outputs": [],
   "source": [
    "X_raw, y_train = df_train['text'], df_train['topic']"
   ]
  },
  {
   "cell_type": "code",
   "execution_count": 7,
   "metadata": {},
   "outputs": [],
   "source": [
    "X_train = []\n",
    "stemmer = WordNetLemmatizer()\n",
    "\n",
    "for i in range(0, len(X_raw)):\n",
    "    document = re.sub(r'\\W', ' ', X_raw[i])\n",
    "    document = document.lower()\n",
    "    document = document.split()\n",
    "    document = [stemmer.lemmatize(word) for word in document]\n",
    "    document = ' '.join(document)\n",
    "    X_train.append(document)"
   ]
  },
  {
   "cell_type": "code",
   "execution_count": 8,
   "metadata": {},
   "outputs": [],
   "source": [
    "from sklearn.pipeline import Pipeline\n",
    "from sklearn.feature_extraction.text import CountVectorizer\n",
    "from sklearn.feature_extraction.text import TfidfTransformer\n",
    "from sklearn.naive_bayes import MultinomialNB\n",
    "\n",
    "pipeline = Pipeline([('vect', CountVectorizer(stop_words=stopwords.words('english'))),\n",
    "                  ('tfidf', TfidfTransformer()),\n",
    "                  ('classifier', MultinomialNB())])"
   ]
  },
  {
   "cell_type": "code",
   "execution_count": 9,
   "metadata": {},
   "outputs": [],
   "source": [
    "model = pipeline.fit(X_train, y_train)"
   ]
  },
  {
   "cell_type": "code",
   "execution_count": 10,
   "metadata": {},
   "outputs": [],
   "source": [
    "data_test = []\n",
    "with open('testcases\\input00.txt','r', encoding=\"utf8\") as f:\n",
    "    lines = f.readlines() \n",
    "    for line in lines:\n",
    "        data_test.append(json.loads(line))\n",
    "    data_test.pop(0)"
   ]
  },
  {
   "cell_type": "code",
   "execution_count": 11,
   "metadata": {},
   "outputs": [],
   "source": [
    "test_output = []\n",
    "with open('testcases\\output00.txt','r', encoding=\"utf8\") as f:\n",
    "    lines = f.readlines()\n",
    "    for i in range(len(lines)):\n",
    "        test_output.append(lines[i].rstrip())"
   ]
  },
  {
   "cell_type": "code",
   "execution_count": 12,
   "metadata": {},
   "outputs": [],
   "source": [
    "df_test = pd.DataFrame.from_dict(data_test)\n",
    "df_test['topic'] = test_output\n",
    "\n",
    "df_test['text'] = df_test[['question','excerpt']].agg(' '.join, axis=1)\n",
    "\n",
    "X_test_raw, y_test = df_test['text'], df_test['topic']"
   ]
  },
  {
   "cell_type": "code",
   "execution_count": 13,
   "metadata": {},
   "outputs": [],
   "source": [
    "X_test = []\n",
    "\n",
    "for i in range(0, len(X_test_raw)):\n",
    "    document = re.sub(r'\\W', ' ', X_test_raw[i])\n",
    "    document = document.lower()\n",
    "    document = document.split()\n",
    "    document = [stemmer.lemmatize(word) for word in document]\n",
    "    document = ' '.join(document)\n",
    "    X_test.append(document)"
   ]
  },
  {
   "cell_type": "code",
   "execution_count": 14,
   "metadata": {},
   "outputs": [],
   "source": [
    "predicted = model.predict(X_test)"
   ]
  },
  {
   "cell_type": "code",
   "execution_count": 15,
   "metadata": {},
   "outputs": [
    {
     "data": {
      "text/plain": [
       "0.885244811069718"
      ]
     },
     "execution_count": 15,
     "metadata": {},
     "output_type": "execute_result"
    }
   ],
   "source": [
    "from sklearn.metrics import accuracy_score\n",
    "\n",
    "accuracy_score(y_test,predicted)"
   ]
  }
 ],
 "metadata": {
  "kernelspec": {
   "display_name": "Python 3",
   "language": "python",
   "name": "python3"
  },
  "language_info": {
   "codemirror_mode": {
    "name": "ipython",
    "version": 3
   },
   "file_extension": ".py",
   "mimetype": "text/x-python",
   "name": "python",
   "nbconvert_exporter": "python",
   "pygments_lexer": "ipython3",
   "version": "3.7.6"
  }
 },
 "nbformat": 4,
 "nbformat_minor": 4
}
